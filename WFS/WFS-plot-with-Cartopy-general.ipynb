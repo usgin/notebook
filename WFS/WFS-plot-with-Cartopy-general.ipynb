{
 "cells": [
  {
   "cell_type": "markdown",
   "metadata": {},
   "source": [
    "# Read WFS data from into Shapely/Cartopy"
   ]
  },
  {
   "cell_type": "code",
   "execution_count": 1,
   "metadata": {
    "collapsed": true
   },
   "outputs": [],
   "source": [
    "import numpy as np\n",
    "import matplotlib.pyplot as plt\n",
    "import geojson\n",
    "from owslib.wfs import WebFeatureService\n",
    "from shapely.geometry import Polygon, mapping, asShape, shape\n",
    "import cartopy.crs as ccrs\n",
    "from cartopy.io.img_tiles import MapQuestOpenAerial, MapQuestOSM, OSM\n",
    "%matplotlib inline"
   ]
  },
  {
   "cell_type": "code",
   "execution_count": 2,
   "metadata": {
    "collapsed": true
   },
   "outputs": [],
   "source": [
    "# Read data from WFS 1.1 service in JSON format\n",
    "# note the WFS implementation has to offer JSON output format."
   ]
  },
  {
   "cell_type": "code",
   "execution_count": 3,
   "metadata": {
    "collapsed": true
   },
   "outputs": [],
   "source": [
    "# getCapabilities\n",
    "# {endpoint}?service=wfs&version=1.0.0&request=GetCapabilities\n",
    "# each feature has a LatLongBoundingBox"
   ]
  },
  {
   "cell_type": "code",
   "execution_count": 4,
   "metadata": {},
   "outputs": [
    {
     "name": "stdout",
     "output_type": "stream",
     "text": [
      "1.1.0\n"
     ]
    }
   ],
   "source": [
    "# some Geoserver WFS endpoints:\n",
    "#endpoint='https://www.sciencebase.gov/catalogMaps/mapping/ows/5342c54be4b0aa151574a8dc'\n",
    "endpoint='https://www.sciencebase.gov/catalogMaps/mapping/ows/5342c5fce4b0aa151574a8ed'\n",
    "#endpoint='https://www.sciencebase.gov/catalogMaps/mapping/ows/5342e124e4b0aa151574a969'\n",
    "# for testing, doesn't support JSON output format:\n",
    "#endpoint='http://services.azgs.az.gov/arcgis/services/aasggeothermal/AZActiveFaults/MapServer/WFSServer'\n",
    "#smu thermal conductivity\n",
    "#endpoint='http://geothermal.smu.edu:9000/geoserver/aasg-thermalconductivity/ows'\n",
    "wfs = WebFeatureService(endpoint, version='1.1.0')\n",
    "print wfs.version"
   ]
  },
  {
   "cell_type": "code",
   "execution_count": 5,
   "metadata": {},
   "outputs": [
    {
     "name": "stdout",
     "output_type": "stream",
     "text": [
      "['sb:footprint', 'sb:Conservation_Zone_WGS84']\n"
     ]
    }
   ],
   "source": [
    "featuretypes = wfs.contents.keys()\n",
    "print featuretypes"
   ]
  },
  {
   "cell_type": "code",
   "execution_count": 6,
   "metadata": {},
   "outputs": [],
   "source": [
    "a = wfs.contents[featuretypes[0]]\n",
    "b = a.boundingBoxWGS84"
   ]
  },
  {
   "cell_type": "code",
   "execution_count": 7,
   "metadata": {},
   "outputs": [
    {
     "name": "stdout",
     "output_type": "stream",
     "text": [
      "['sb:Conservation_Zone_WGS84']\n"
     ]
    }
   ],
   "source": [
    "shp = filter(lambda a: a != 'sb:footprint', featuretypes)\n",
    "print shp"
   ]
  },
  {
   "cell_type": "code",
   "execution_count": 8,
   "metadata": {
    "collapsed": true
   },
   "outputs": [],
   "source": [
    "def flip_geojson_coordinates(geo):\n",
    "    if isinstance(geo, dict):\n",
    "        for k, v in geo.iteritems():\n",
    "            if k == \"coordinates\":\n",
    "                z = np.asarray(geo[k])\n",
    "                f = z.flatten()\n",
    "                geo[k] = np.dstack((f[1::2], f[::2])).reshape(z.shape).tolist()\n",
    "            else:\n",
    "                flip_geojson_coordinates(v)\n",
    "    elif isinstance(geo, list):\n",
    "        for k in geo:\n",
    "            print 'list key {0}'.format(k)\n",
    "            flip_geojson_coordinates(k)"
   ]
  },
  {
   "cell_type": "code",
   "execution_count": 14,
   "metadata": {},
   "outputs": [
    {
     "data": {
      "text/plain": [
       "['text/xml; subtype=gml/3.1.1',\n",
       " 'GML2',\n",
       " 'KML',\n",
       " 'SHAPE-ZIP',\n",
       " 'application/gml+xml; version=3.2',\n",
       " 'application/json',\n",
       " 'application/vnd.google-earth.kml xml',\n",
       " 'application/vnd.google-earth.kml+xml',\n",
       " 'csv',\n",
       " 'gml3',\n",
       " 'gml32',\n",
       " 'json',\n",
       " 'text/javascript',\n",
       " 'text/xml; subtype=gml/2.1.2',\n",
       " 'text/xml; subtype=gml/3.2']"
      ]
     },
     "execution_count": 14,
     "metadata": {},
     "output_type": "execute_result"
    }
   ],
   "source": [
    "#get list of output formats. assumes getFeature is always the third operation in sequence\n",
    "[wfs.operations[2].parameters['outputFormat']][0]['values']"
   ]
  },
  {
   "cell_type": "code",
   "execution_count": null,
   "metadata": {
    "scrolled": true
   },
   "outputs": [],
   "source": [
    "#srs='EPSG:4326' # v1.0 syntax\n",
    "srs='urn:x-ogc:def:crs:EPSG:4326'  # v1.1 syntax\n",
    "#srs='urn:ogc:def:crs:EPSG:6.9:4326' #ESRI? syntax\n",
    "json_response = wfs.getfeature(typename=[shp[0]], propertyname=None, srsname=srs, outputFormat='application/json',maxFeatures='10').read()\n",
    "geo = geojson.loads(json_response)\n",
    "print 'geo done'\n",
    "flip_geojson_coordinates(geo)\n",
    "print 'flip done'"
   ]
  },
  {
   "cell_type": "code",
   "execution_count": null,
   "metadata": {},
   "outputs": [],
   "source": [
    "print geo.keys()"
   ]
  },
  {
   "cell_type": "code",
   "execution_count": null,
   "metadata": {},
   "outputs": [],
   "source": [
    "print geo['type']"
   ]
  },
  {
   "cell_type": "code",
   "execution_count": null,
   "metadata": {},
   "outputs": [],
   "source": [
    "geodetic = ccrs.Geodetic(globe=ccrs.Globe(datum='WGS84'))\n",
    "\n",
    "plt.figure(figsize=(12,12))\n",
    "# Open Source Imagery from MapQuest (max zoom = 16?) [SMR2018-05-18 doesn't work]\n",
    "#tiler = MapQuestOpenAerial()\n",
    "# Open Street Map (max zoom = 18?)\n",
    "tiler = OSM()\n",
    "ax = plt.axes(projection=tiler.crs)\n",
    "dx=b[2]-b[0]\n",
    "dy=b[3]-b[1]\n",
    "extent = (b[0]-0.1*dx,b[2]+0.1*dx,b[1]-0.1*dy,b[3]+0.1*dy)\n",
    "ax.set_extent(extent, geodetic)\n",
    "ax.add_image(tiler, 14)\n",
    "#ax.add_geometries([polygon],ccrs.PlateCarree(),\n",
    "#                          facecolor=BLUE, edgecolor=GRAY,alpha=0.5)\n",
    "for p in geo.get(\"features\", []):\n",
    "    multi_poly = asShape(p.get(\"geometry\"))\n",
    "    print 'bounds from Shapely: ',multi_poly.bounds\n",
    "#    name=p['properties']['NAME']\n",
    "#    print name\n",
    "    ax.add_geometries(multi_poly,ccrs.PlateCarree(),\n",
    "                edgecolor='black',facecolor='none',hatch='/')\n",
    "#title(name)\n",
    "    \n",
    "gl=ax.gridlines(draw_labels=True)\n",
    "gl.xlabels_top = False\n",
    "gl.ylabels_right = False\n",
    "#ax.add_feature(coast_10m,edgecolor='black')\n",
    "#ax.coastlines()"
   ]
  },
  {
   "cell_type": "code",
   "execution_count": null,
   "metadata": {
    "collapsed": true
   },
   "outputs": [],
   "source": []
  }
 ],
 "metadata": {
  "kernelspec": {
   "display_name": "Python 2",
   "language": "python",
   "name": "python2"
  },
  "language_info": {
   "codemirror_mode": {
    "name": "ipython",
    "version": 2
   },
   "file_extension": ".py",
   "mimetype": "text/x-python",
   "name": "python",
   "nbconvert_exporter": "python",
   "pygments_lexer": "ipython2",
   "version": "2.7.13"
  },
  "widgets": {
   "state": {},
   "version": "1.1.2"
  }
 },
 "nbformat": 4,
 "nbformat_minor": 1
}
